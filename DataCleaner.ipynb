{
  "nbformat": 4,
  "nbformat_minor": 0,
  "metadata": {
    "colab": {
      "provenance": []
    },
    "kernelspec": {
      "name": "python3",
      "display_name": "Python 3"
    },
    "language_info": {
      "name": "python"
    }
  },
  "cells": [
    {
      "cell_type": "markdown",
      "source": [
        "All you have to do is copy the file path where it says file name and hit run all."
      ],
      "metadata": {
        "id": "1uResiA0afyh"
      }
    },
    {
      "cell_type": "code",
      "execution_count": 324,
      "metadata": {
        "id": "O6x2Tzl_JWIN"
      },
      "outputs": [],
      "source": [
        "import pandas as pd"
      ]
    },
    {
      "cell_type": "code",
      "source": [
        "file_name = '/content/DOWNLOAD-W_ywtURV-7DtTU9_8sRH2JxGfpCbRNJDLWBCepfj1XU=.csv'"
      ],
      "metadata": {
        "id": "VMgZrphCRYe1"
      },
      "execution_count": 325,
      "outputs": []
    },
    {
      "cell_type": "code",
      "source": [
        "df = pd.read_csv(file_name, sep=';')"
      ],
      "metadata": {
        "id": "ZaNqesNfJbWT"
      },
      "execution_count": 326,
      "outputs": []
    },
    {
      "cell_type": "code",
      "source": [
        "# df = df.dropna()"
      ],
      "metadata": {
        "id": "9EMvdLXjNRpK"
      },
      "execution_count": 327,
      "outputs": []
    },
    {
      "cell_type": "code",
      "source": [
        "df.info()"
      ],
      "metadata": {
        "colab": {
          "base_uri": "https://localhost:8080/"
        },
        "id": "y4XDPr8LQHL4",
        "outputId": "07bc585a-e3dc-484b-8df3-543540d0b192"
      },
      "execution_count": 328,
      "outputs": [
        {
          "output_type": "stream",
          "name": "stdout",
          "text": [
            "<class 'pandas.core.frame.DataFrame'>\n",
            "RangeIndex: 95730 entries, 0 to 95729\n",
            "Data columns (total 47 columns):\n",
            " #   Column                      Non-Null Count  Dtype  \n",
            "---  ------                      --------------  -----  \n",
            " 0   Molecule ChEMBL ID          95730 non-null  object \n",
            " 1   Molecule Name               22766 non-null  object \n",
            " 2   Molecule Max Phase          95730 non-null  object \n",
            " 3   Molecular Weight            95730 non-null  object \n",
            " 4   #RO5 Violations             95730 non-null  object \n",
            " 5   AlogP                       95730 non-null  object \n",
            " 6   Compound Key                95729 non-null  object \n",
            " 7   Smiles                      95592 non-null  object \n",
            " 8   Standard Type               95730 non-null  object \n",
            " 9   Standard Relation           84137 non-null  object \n",
            " 10  Standard Value              84098 non-null  float64\n",
            " 11  Standard Units              84903 non-null  object \n",
            " 12  pChEMBL Value               1239 non-null   float64\n",
            " 13  Data Validity Comment       1509 non-null   object \n",
            " 14  Comment                     17424 non-null  object \n",
            " 15  Uo Units                    83992 non-null  object \n",
            " 16  Ligand Efficiency BEI       0 non-null      float64\n",
            " 17  Ligand Efficiency LE        0 non-null      float64\n",
            " 18  Ligand Efficiency LLE       0 non-null      float64\n",
            " 19  Ligand Efficiency SEI       0 non-null      float64\n",
            " 20  Potential Duplicate         95730 non-null  int64  \n",
            " 21  Assay ChEMBL ID             95730 non-null  object \n",
            " 22  Assay Description           95730 non-null  object \n",
            " 23  Assay Type                  95730 non-null  object \n",
            " 24  BAO Format ID               95730 non-null  object \n",
            " 25  BAO Label                   95730 non-null  object \n",
            " 26  Assay Organism              95730 non-null  object \n",
            " 27  Assay Tissue ChEMBL ID      95730 non-null  object \n",
            " 28  Assay Tissue Name           95730 non-null  object \n",
            " 29  Assay Cell Type             95730 non-null  object \n",
            " 30  Assay Subcellular Fraction  95730 non-null  object \n",
            " 31  Assay Parameters            6319 non-null   object \n",
            " 32  Assay Variant Accession     0 non-null      float64\n",
            " 33  Assay Variant Mutation      0 non-null      float64\n",
            " 34  Target ChEMBL ID            95730 non-null  object \n",
            " 35  Target Name                 95730 non-null  object \n",
            " 36  Target Organism             95730 non-null  object \n",
            " 37  Target Type                 95730 non-null  object \n",
            " 38  Document ChEMBL ID          95730 non-null  object \n",
            " 39  Source ID                   95730 non-null  int64  \n",
            " 40  Source Description          95730 non-null  object \n",
            " 41  Document Journal            89385 non-null  object \n",
            " 42  Document Year               89442 non-null  float64\n",
            " 43  Cell ChEMBL ID              95730 non-null  object \n",
            " 44  Properties                  12123 non-null  object \n",
            " 45  Action Type                 0 non-null      float64\n",
            " 46  Standard Text Value         0 non-null      float64\n",
            "dtypes: float64(11), int64(2), object(34)\n",
            "memory usage: 34.3+ MB\n"
          ]
        }
      ]
    },
    {
      "cell_type": "code",
      "source": [
        "# df = df[df['Standard Units'].str.contains('%|nM')]"
      ],
      "metadata": {
        "id": "z9k_PoyIM7WF"
      },
      "execution_count": 329,
      "outputs": []
    },
    {
      "cell_type": "code",
      "source": [
        "df = df[['Molecule ChEMBL ID','Smiles','Standard Relation','Standard Value','Standard Units', 'Assay Description', 'Target Name']]"
      ],
      "metadata": {
        "id": "rL5plkfsNXQ0"
      },
      "execution_count": 330,
      "outputs": []
    },
    {
      "cell_type": "code",
      "source": [
        "df.head()"
      ],
      "metadata": {
        "colab": {
          "base_uri": "https://localhost:8080/",
          "height": 206
        },
        "id": "NbvHlGJsNO37",
        "outputId": "a1516714-e547-4fdc-ba9f-b314c7baea75"
      },
      "execution_count": 331,
      "outputs": [
        {
          "output_type": "execute_result",
          "data": {
            "text/plain": [
              "  Molecule ChEMBL ID                                             Smiles  \\\n",
              "0       CHEMBL523108     c1ccc(-c2ccc(OCc3nnc4sc(-c5ccccc5)nn34)cc2)cc1   \n",
              "1       CHEMBL595390     CC1/C(=N/N2C(=O)CNC2=S)CC(c2ccccc2)NC1c1ccccc1   \n",
              "2        CHEMBL11505                          Cc1cn(COCCN)c(=O)[nH]c1=O   \n",
              "3      CHEMBL1242157  O=C(Cn1ncc2cc([N+](=O)[O-])ccc21)NN1C(=O)CSC1c...   \n",
              "4       CHEMBL595491               O=C(NCCC/N=C/c1cc(Br)ccc1O)c1ccccc1O   \n",
              "\n",
              "  Standard Relation  Standard Value Standard Units  \\\n",
              "0               '='           25.00        ug.mL-1   \n",
              "1               '='           50.00        ug.mL-1   \n",
              "2               '='       310000.00             nM   \n",
              "3               '='           13.00        ug.mL-1   \n",
              "4               '='            0.39        ug.mL-1   \n",
              "\n",
              "                                   Assay Description       Target Name  \n",
              "0  Antibacterial activity against sEscherichia co...  Escherichia coli  \n",
              "1  Antibacterial activity against Escherichia col...  Escherichia coli  \n",
              "2  In vitro inhibition of Escherichia coli K-12 g...  Escherichia coli  \n",
              "3    Antibacterial activity against Escherichia coli  Escherichia coli  \n",
              "4  Antimicrobial activity against Escherichia col...  Escherichia coli  "
            ],
            "text/html": [
              "\n",
              "  <div id=\"df-22138ae6-a4ce-4543-9b62-befb0d87d60e\" class=\"colab-df-container\">\n",
              "    <div>\n",
              "<style scoped>\n",
              "    .dataframe tbody tr th:only-of-type {\n",
              "        vertical-align: middle;\n",
              "    }\n",
              "\n",
              "    .dataframe tbody tr th {\n",
              "        vertical-align: top;\n",
              "    }\n",
              "\n",
              "    .dataframe thead th {\n",
              "        text-align: right;\n",
              "    }\n",
              "</style>\n",
              "<table border=\"1\" class=\"dataframe\">\n",
              "  <thead>\n",
              "    <tr style=\"text-align: right;\">\n",
              "      <th></th>\n",
              "      <th>Molecule ChEMBL ID</th>\n",
              "      <th>Smiles</th>\n",
              "      <th>Standard Relation</th>\n",
              "      <th>Standard Value</th>\n",
              "      <th>Standard Units</th>\n",
              "      <th>Assay Description</th>\n",
              "      <th>Target Name</th>\n",
              "    </tr>\n",
              "  </thead>\n",
              "  <tbody>\n",
              "    <tr>\n",
              "      <th>0</th>\n",
              "      <td>CHEMBL523108</td>\n",
              "      <td>c1ccc(-c2ccc(OCc3nnc4sc(-c5ccccc5)nn34)cc2)cc1</td>\n",
              "      <td>'='</td>\n",
              "      <td>25.00</td>\n",
              "      <td>ug.mL-1</td>\n",
              "      <td>Antibacterial activity against sEscherichia co...</td>\n",
              "      <td>Escherichia coli</td>\n",
              "    </tr>\n",
              "    <tr>\n",
              "      <th>1</th>\n",
              "      <td>CHEMBL595390</td>\n",
              "      <td>CC1/C(=N/N2C(=O)CNC2=S)CC(c2ccccc2)NC1c1ccccc1</td>\n",
              "      <td>'='</td>\n",
              "      <td>50.00</td>\n",
              "      <td>ug.mL-1</td>\n",
              "      <td>Antibacterial activity against Escherichia col...</td>\n",
              "      <td>Escherichia coli</td>\n",
              "    </tr>\n",
              "    <tr>\n",
              "      <th>2</th>\n",
              "      <td>CHEMBL11505</td>\n",
              "      <td>Cc1cn(COCCN)c(=O)[nH]c1=O</td>\n",
              "      <td>'='</td>\n",
              "      <td>310000.00</td>\n",
              "      <td>nM</td>\n",
              "      <td>In vitro inhibition of Escherichia coli K-12 g...</td>\n",
              "      <td>Escherichia coli</td>\n",
              "    </tr>\n",
              "    <tr>\n",
              "      <th>3</th>\n",
              "      <td>CHEMBL1242157</td>\n",
              "      <td>O=C(Cn1ncc2cc([N+](=O)[O-])ccc21)NN1C(=O)CSC1c...</td>\n",
              "      <td>'='</td>\n",
              "      <td>13.00</td>\n",
              "      <td>ug.mL-1</td>\n",
              "      <td>Antibacterial activity against Escherichia coli</td>\n",
              "      <td>Escherichia coli</td>\n",
              "    </tr>\n",
              "    <tr>\n",
              "      <th>4</th>\n",
              "      <td>CHEMBL595491</td>\n",
              "      <td>O=C(NCCC/N=C/c1cc(Br)ccc1O)c1ccccc1O</td>\n",
              "      <td>'='</td>\n",
              "      <td>0.39</td>\n",
              "      <td>ug.mL-1</td>\n",
              "      <td>Antimicrobial activity against Escherichia col...</td>\n",
              "      <td>Escherichia coli</td>\n",
              "    </tr>\n",
              "  </tbody>\n",
              "</table>\n",
              "</div>\n",
              "    <div class=\"colab-df-buttons\">\n",
              "\n",
              "  <div class=\"colab-df-container\">\n",
              "    <button class=\"colab-df-convert\" onclick=\"convertToInteractive('df-22138ae6-a4ce-4543-9b62-befb0d87d60e')\"\n",
              "            title=\"Convert this dataframe to an interactive table.\"\n",
              "            style=\"display:none;\">\n",
              "\n",
              "  <svg xmlns=\"http://www.w3.org/2000/svg\" height=\"24px\" viewBox=\"0 -960 960 960\">\n",
              "    <path d=\"M120-120v-720h720v720H120Zm60-500h600v-160H180v160Zm220 220h160v-160H400v160Zm0 220h160v-160H400v160ZM180-400h160v-160H180v160Zm440 0h160v-160H620v160ZM180-180h160v-160H180v160Zm440 0h160v-160H620v160Z\"/>\n",
              "  </svg>\n",
              "    </button>\n",
              "\n",
              "  <style>\n",
              "    .colab-df-container {\n",
              "      display:flex;\n",
              "      gap: 12px;\n",
              "    }\n",
              "\n",
              "    .colab-df-convert {\n",
              "      background-color: #E8F0FE;\n",
              "      border: none;\n",
              "      border-radius: 50%;\n",
              "      cursor: pointer;\n",
              "      display: none;\n",
              "      fill: #1967D2;\n",
              "      height: 32px;\n",
              "      padding: 0 0 0 0;\n",
              "      width: 32px;\n",
              "    }\n",
              "\n",
              "    .colab-df-convert:hover {\n",
              "      background-color: #E2EBFA;\n",
              "      box-shadow: 0px 1px 2px rgba(60, 64, 67, 0.3), 0px 1px 3px 1px rgba(60, 64, 67, 0.15);\n",
              "      fill: #174EA6;\n",
              "    }\n",
              "\n",
              "    .colab-df-buttons div {\n",
              "      margin-bottom: 4px;\n",
              "    }\n",
              "\n",
              "    [theme=dark] .colab-df-convert {\n",
              "      background-color: #3B4455;\n",
              "      fill: #D2E3FC;\n",
              "    }\n",
              "\n",
              "    [theme=dark] .colab-df-convert:hover {\n",
              "      background-color: #434B5C;\n",
              "      box-shadow: 0px 1px 3px 1px rgba(0, 0, 0, 0.15);\n",
              "      filter: drop-shadow(0px 1px 2px rgba(0, 0, 0, 0.3));\n",
              "      fill: #FFFFFF;\n",
              "    }\n",
              "  </style>\n",
              "\n",
              "    <script>\n",
              "      const buttonEl =\n",
              "        document.querySelector('#df-22138ae6-a4ce-4543-9b62-befb0d87d60e button.colab-df-convert');\n",
              "      buttonEl.style.display =\n",
              "        google.colab.kernel.accessAllowed ? 'block' : 'none';\n",
              "\n",
              "      async function convertToInteractive(key) {\n",
              "        const element = document.querySelector('#df-22138ae6-a4ce-4543-9b62-befb0d87d60e');\n",
              "        const dataTable =\n",
              "          await google.colab.kernel.invokeFunction('convertToInteractive',\n",
              "                                                    [key], {});\n",
              "        if (!dataTable) return;\n",
              "\n",
              "        const docLinkHtml = 'Like what you see? Visit the ' +\n",
              "          '<a target=\"_blank\" href=https://colab.research.google.com/notebooks/data_table.ipynb>data table notebook</a>'\n",
              "          + ' to learn more about interactive tables.';\n",
              "        element.innerHTML = '';\n",
              "        dataTable['output_type'] = 'display_data';\n",
              "        await google.colab.output.renderOutput(dataTable, element);\n",
              "        const docLink = document.createElement('div');\n",
              "        docLink.innerHTML = docLinkHtml;\n",
              "        element.appendChild(docLink);\n",
              "      }\n",
              "    </script>\n",
              "  </div>\n",
              "\n",
              "\n",
              "<div id=\"df-46535631-34ff-4333-bd8c-c8bffe17638d\">\n",
              "  <button class=\"colab-df-quickchart\" onclick=\"quickchart('df-46535631-34ff-4333-bd8c-c8bffe17638d')\"\n",
              "            title=\"Suggest charts\"\n",
              "            style=\"display:none;\">\n",
              "\n",
              "<svg xmlns=\"http://www.w3.org/2000/svg\" height=\"24px\"viewBox=\"0 0 24 24\"\n",
              "     width=\"24px\">\n",
              "    <g>\n",
              "        <path d=\"M19 3H5c-1.1 0-2 .9-2 2v14c0 1.1.9 2 2 2h14c1.1 0 2-.9 2-2V5c0-1.1-.9-2-2-2zM9 17H7v-7h2v7zm4 0h-2V7h2v10zm4 0h-2v-4h2v4z\"/>\n",
              "    </g>\n",
              "</svg>\n",
              "  </button>\n",
              "\n",
              "<style>\n",
              "  .colab-df-quickchart {\n",
              "      --bg-color: #E8F0FE;\n",
              "      --fill-color: #1967D2;\n",
              "      --hover-bg-color: #E2EBFA;\n",
              "      --hover-fill-color: #174EA6;\n",
              "      --disabled-fill-color: #AAA;\n",
              "      --disabled-bg-color: #DDD;\n",
              "  }\n",
              "\n",
              "  [theme=dark] .colab-df-quickchart {\n",
              "      --bg-color: #3B4455;\n",
              "      --fill-color: #D2E3FC;\n",
              "      --hover-bg-color: #434B5C;\n",
              "      --hover-fill-color: #FFFFFF;\n",
              "      --disabled-bg-color: #3B4455;\n",
              "      --disabled-fill-color: #666;\n",
              "  }\n",
              "\n",
              "  .colab-df-quickchart {\n",
              "    background-color: var(--bg-color);\n",
              "    border: none;\n",
              "    border-radius: 50%;\n",
              "    cursor: pointer;\n",
              "    display: none;\n",
              "    fill: var(--fill-color);\n",
              "    height: 32px;\n",
              "    padding: 0;\n",
              "    width: 32px;\n",
              "  }\n",
              "\n",
              "  .colab-df-quickchart:hover {\n",
              "    background-color: var(--hover-bg-color);\n",
              "    box-shadow: 0 1px 2px rgba(60, 64, 67, 0.3), 0 1px 3px 1px rgba(60, 64, 67, 0.15);\n",
              "    fill: var(--button-hover-fill-color);\n",
              "  }\n",
              "\n",
              "  .colab-df-quickchart-complete:disabled,\n",
              "  .colab-df-quickchart-complete:disabled:hover {\n",
              "    background-color: var(--disabled-bg-color);\n",
              "    fill: var(--disabled-fill-color);\n",
              "    box-shadow: none;\n",
              "  }\n",
              "\n",
              "  .colab-df-spinner {\n",
              "    border: 2px solid var(--fill-color);\n",
              "    border-color: transparent;\n",
              "    border-bottom-color: var(--fill-color);\n",
              "    animation:\n",
              "      spin 1s steps(1) infinite;\n",
              "  }\n",
              "\n",
              "  @keyframes spin {\n",
              "    0% {\n",
              "      border-color: transparent;\n",
              "      border-bottom-color: var(--fill-color);\n",
              "      border-left-color: var(--fill-color);\n",
              "    }\n",
              "    20% {\n",
              "      border-color: transparent;\n",
              "      border-left-color: var(--fill-color);\n",
              "      border-top-color: var(--fill-color);\n",
              "    }\n",
              "    30% {\n",
              "      border-color: transparent;\n",
              "      border-left-color: var(--fill-color);\n",
              "      border-top-color: var(--fill-color);\n",
              "      border-right-color: var(--fill-color);\n",
              "    }\n",
              "    40% {\n",
              "      border-color: transparent;\n",
              "      border-right-color: var(--fill-color);\n",
              "      border-top-color: var(--fill-color);\n",
              "    }\n",
              "    60% {\n",
              "      border-color: transparent;\n",
              "      border-right-color: var(--fill-color);\n",
              "    }\n",
              "    80% {\n",
              "      border-color: transparent;\n",
              "      border-right-color: var(--fill-color);\n",
              "      border-bottom-color: var(--fill-color);\n",
              "    }\n",
              "    90% {\n",
              "      border-color: transparent;\n",
              "      border-bottom-color: var(--fill-color);\n",
              "    }\n",
              "  }\n",
              "</style>\n",
              "\n",
              "  <script>\n",
              "    async function quickchart(key) {\n",
              "      const quickchartButtonEl =\n",
              "        document.querySelector('#' + key + ' button');\n",
              "      quickchartButtonEl.disabled = true;  // To prevent multiple clicks.\n",
              "      quickchartButtonEl.classList.add('colab-df-spinner');\n",
              "      try {\n",
              "        const charts = await google.colab.kernel.invokeFunction(\n",
              "            'suggestCharts', [key], {});\n",
              "      } catch (error) {\n",
              "        console.error('Error during call to suggestCharts:', error);\n",
              "      }\n",
              "      quickchartButtonEl.classList.remove('colab-df-spinner');\n",
              "      quickchartButtonEl.classList.add('colab-df-quickchart-complete');\n",
              "    }\n",
              "    (() => {\n",
              "      let quickchartButtonEl =\n",
              "        document.querySelector('#df-46535631-34ff-4333-bd8c-c8bffe17638d button');\n",
              "      quickchartButtonEl.style.display =\n",
              "        google.colab.kernel.accessAllowed ? 'block' : 'none';\n",
              "    })();\n",
              "  </script>\n",
              "</div>\n",
              "\n",
              "    </div>\n",
              "  </div>\n"
            ],
            "application/vnd.google.colaboratory.intrinsic+json": {
              "type": "dataframe",
              "variable_name": "df",
              "summary": "{\n  \"name\": \"df\",\n  \"rows\": 95730,\n  \"fields\": [\n    {\n      \"column\": \"Molecule ChEMBL ID\",\n      \"properties\": {\n        \"dtype\": \"string\",\n        \"num_unique_values\": 52925,\n        \"samples\": [\n          \"CHEMBL45887\",\n          \"CHEMBL1091723\",\n          \"CHEMBL1923432\"\n        ],\n        \"semantic_type\": \"\",\n        \"description\": \"\"\n      }\n    },\n    {\n      \"column\": \"Smiles\",\n      \"properties\": {\n        \"dtype\": \"string\",\n        \"num_unique_values\": 52793,\n        \"samples\": [\n          \"COc1cc(OC)c2c(c1C)[C@](C)(O)[C@H](C)OC2=O\",\n          \"O=C(O)c1cc(O)c(O)c(O)c1\",\n          \"O=[N+]([O-])c1ccc2c(ccn2-c2cc(Cl)c(O[C@H]3O[C@H](CO)[C@@H](O)[C@H](O)[C@@H]3O)c(Cl)c2)c1\"\n        ],\n        \"semantic_type\": \"\",\n        \"description\": \"\"\n      }\n    },\n    {\n      \"column\": \"Standard Relation\",\n      \"properties\": {\n        \"dtype\": \"category\",\n        \"num_unique_values\": 5,\n        \"samples\": [\n          \"'>'\",\n          \"'>='\",\n          \"'<'\"\n        ],\n        \"semantic_type\": \"\",\n        \"description\": \"\"\n      }\n    },\n    {\n      \"column\": \"Standard Value\",\n      \"properties\": {\n        \"dtype\": \"number\",\n        \"std\": 8290370.880376268,\n        \"min\": -146.6,\n        \"max\": 1623000000.0,\n        \"num_unique_values\": 5741,\n        \"samples\": [\n          6.53,\n          35800.0,\n          122500.0\n        ],\n        \"semantic_type\": \"\",\n        \"description\": \"\"\n      }\n    },\n    {\n      \"column\": \"Standard Units\",\n      \"properties\": {\n        \"dtype\": \"category\",\n        \"num_unique_values\": 51,\n        \"samples\": [\n          \"10'-7No_unit\",\n          \"ug disk-1\",\n          \"CFU/ml\"\n        ],\n        \"semantic_type\": \"\",\n        \"description\": \"\"\n      }\n    },\n    {\n      \"column\": \"Assay Description\",\n      \"properties\": {\n        \"dtype\": \"category\",\n        \"num_unique_values\": 10385,\n        \"samples\": [\n          \"Antibacterial activity against Escherichia coli ATCC 15922 after overnight incubation by broth dilution assay\",\n          \"In vitro inhibition of protein translation in Escherichia coli\",\n          \"Antibacterial activity against Escherichia coli 1356 after 24 hrs by two-fold serial dilution method\"\n        ],\n        \"semantic_type\": \"\",\n        \"description\": \"\"\n      }\n    },\n    {\n      \"column\": \"Target Name\",\n      \"properties\": {\n        \"dtype\": \"category\",\n        \"num_unique_values\": 1,\n        \"samples\": [\n          \"Escherichia coli\"\n        ],\n        \"semantic_type\": \"\",\n        \"description\": \"\"\n      }\n    }\n  ]\n}"
            }
          },
          "metadata": {},
          "execution_count": 331
        }
      ]
    },
    {
      "cell_type": "code",
      "source": [
        "print(df)"
      ],
      "metadata": {
        "colab": {
          "base_uri": "https://localhost:8080/"
        },
        "id": "nV3xzMn7SnD8",
        "outputId": "b99751a5-0c13-4c72-d191-0ebfd8be0f9d"
      },
      "execution_count": 332,
      "outputs": [
        {
          "output_type": "stream",
          "name": "stdout",
          "text": [
            "      Molecule ChEMBL ID                                             Smiles  \\\n",
            "0           CHEMBL523108     c1ccc(-c2ccc(OCc3nnc4sc(-c5ccccc5)nn34)cc2)cc1   \n",
            "1           CHEMBL595390     CC1/C(=N/N2C(=O)CNC2=S)CC(c2ccccc2)NC1c1ccccc1   \n",
            "2            CHEMBL11505                          Cc1cn(COCCN)c(=O)[nH]c1=O   \n",
            "3          CHEMBL1242157  O=C(Cn1ncc2cc([N+](=O)[O-])ccc21)NN1C(=O)CSC1c...   \n",
            "4           CHEMBL595491               O=C(NCCC/N=C/c1cc(Br)ccc1O)c1ccccc1O   \n",
            "...                  ...                                                ...   \n",
            "95725      CHEMBL5220826  C=C[C@@](C)(/C=C/c1ccc(OCCCCNCCCCCC)cc1)CCC=C(C)C   \n",
            "95726      CHEMBL5220398  OC(COc1cccc2c1c1ccccc1n2CCCC(F)(F)F)CN(Cc1cccc...   \n",
            "95727            CHEMBL9          CCn1cc(C(=O)O)c(=O)c2cc(F)c(N3CCNCC3)cc21   \n",
            "95728      CHEMBL5195579              C=CCn1c2ccccc2c2c(OCc3nnc(S)o3)cccc21   \n",
            "95729      CHEMBL5182872        Sc1nnc(Cn2c3ccccc3c3c(OCCN4CCOCC4)cccc32)o1   \n",
            "\n",
            "      Standard Relation  Standard Value Standard Units  \\\n",
            "0                   '='          25.000        ug.mL-1   \n",
            "1                   '='          50.000        ug.mL-1   \n",
            "2                   '='      310000.000             nM   \n",
            "3                   '='          13.000        ug.mL-1   \n",
            "4                   '='           0.390        ug.mL-1   \n",
            "...                 ...             ...            ...   \n",
            "95725               '='         100.000        ug.mL-1   \n",
            "95726               '='           3.125        ug.mL-1   \n",
            "95727               '='           0.250        ug.mL-1   \n",
            "95728               '='           8.000        ug.mL-1   \n",
            "95729               '='         128.000        ug.mL-1   \n",
            "\n",
            "                                       Assay Description       Target Name  \n",
            "0      Antibacterial activity against sEscherichia co...  Escherichia coli  \n",
            "1      Antibacterial activity against Escherichia col...  Escherichia coli  \n",
            "2      In vitro inhibition of Escherichia coli K-12 g...  Escherichia coli  \n",
            "3        Antibacterial activity against Escherichia coli  Escherichia coli  \n",
            "4      Antimicrobial activity against Escherichia col...  Escherichia coli  \n",
            "...                                                  ...               ...  \n",
            "95725  Antibacterial activity against Escherichia col...  Escherichia coli  \n",
            "95726  Antibacterial activity Escherichia coli ATCC 2...  Escherichia coli  \n",
            "95727  Antibacterial activity against Escherichia col...  Escherichia coli  \n",
            "95728  Antibacterial activity against Escherichia col...  Escherichia coli  \n",
            "95729  Antibacterial activity against Escherichia col...  Escherichia coli  \n",
            "\n",
            "[95730 rows x 7 columns]\n"
          ]
        }
      ]
    },
    {
      "cell_type": "code",
      "source": [
        "df = df.dropna()"
      ],
      "metadata": {
        "id": "miQWVWxJS25l"
      },
      "execution_count": 333,
      "outputs": []
    },
    {
      "cell_type": "code",
      "source": [
        "df = df[df['Standard Units'].str.contains('%|nM')]"
      ],
      "metadata": {
        "id": "gRzr14DcSxQH"
      },
      "execution_count": 334,
      "outputs": []
    },
    {
      "cell_type": "code",
      "source": [
        "print(df)"
      ],
      "metadata": {
        "colab": {
          "base_uri": "https://localhost:8080/"
        },
        "id": "itSmNdBGS0G-",
        "outputId": "37ad7b5e-df79-4b1c-a9d4-1b17666dbf7d"
      },
      "execution_count": 335,
      "outputs": [
        {
          "output_type": "stream",
          "name": "stdout",
          "text": [
            "      Molecule ChEMBL ID                                             Smiles  \\\n",
            "2            CHEMBL11505                          Cc1cn(COCCN)c(=O)[nH]c1=O   \n",
            "13         CHEMBL1235969  CC(=O)O[C@@H]1[C@@H](C)O[C@@H](c2ccc3c(c2O)[C@...   \n",
            "19          CHEMBL409812  CCCCCCCCCCCCCC(=O)NCc1ccc(C(=O)N[C@H](C(=O)O)[...   \n",
            "24          CHEMBL219502  CC(=O)NC[C@H]1CN(c2ccc3c(c2)CCC/C(=C\\c2ccc(O)c...   \n",
            "30          CHEMBL373005                         CC1=C(O)C(C)(CC2CCC2)SC1=O   \n",
            "...                  ...                                                ...   \n",
            "95718      CHEMBL5187473  CC[C@H]1OC(=O)[C@@](C)(F)C(=O)[C@H](C)[C@@H](O...   \n",
            "95719            CHEMBL9          CCn1cc(C(=O)O)c(=O)c2cc(F)c(N3CCNCC3)cc21   \n",
            "95720      CHEMBL5218832  COc1cc(/C=N/O)c2c(c1OCC(O)Cn1c([N+](=O)[O-])cn...   \n",
            "95721      CHEMBL5220976  CO/N=C/c1cc(OC)c(OCC(O)Cn2c([N+](=O)[O-])cnc2C...   \n",
            "95724      CHEMBL5220942  COc1ccc(/C=C2\\C(=N)N=C(SCC(=O)N3CCN(c4cc5c(cc4...   \n",
            "\n",
            "      Standard Relation  Standard Value Standard Units  \\\n",
            "2                   '='       310000.00             nM   \n",
            "13                  '>'          100.00              %   \n",
            "19                  '='            0.89              %   \n",
            "24                  '='          950.00             nM   \n",
            "30                  '>'      1000000.00             nM   \n",
            "...                 ...             ...            ...   \n",
            "95718               '>'        31000.00             nM   \n",
            "95719               '='        50000.00             nM   \n",
            "95720               '='        29000.00             nM   \n",
            "95721               '='       905000.00             nM   \n",
            "95724               '='         4940.00             nM   \n",
            "\n",
            "                                       Assay Description       Target Name  \n",
            "2      In vitro inhibition of Escherichia coli K-12 g...  Escherichia coli  \n",
            "13     Antibacterial activity against Escherichia col...  Escherichia coli  \n",
            "19     Effect on membrane permeability of Escherichia...  Escherichia coli  \n",
            "24     Antibacterial activity against Escherichia col...  Escherichia coli  \n",
            "30     Inhibitory activity against Escherichia coli ANSI  Escherichia coli  \n",
            "...                                                  ...               ...  \n",
            "95718  Antibacterial activity against Escherichia col...  Escherichia coli  \n",
            "95719  Antibacterial activity against Escherichia col...  Escherichia coli  \n",
            "95720  Antibacterial activity against Escherichia col...  Escherichia coli  \n",
            "95721  Antibacterial activity against Escherichia col...  Escherichia coli  \n",
            "95724  Antibacterial activity against Escherichia col...  Escherichia coli  \n",
            "\n",
            "[19049 rows x 7 columns]\n"
          ]
        }
      ]
    },
    {
      "cell_type": "code",
      "source": [
        "df.to_csv('data.csv', index=False)"
      ],
      "metadata": {
        "id": "z9oaR31ATJ5w"
      },
      "execution_count": 336,
      "outputs": []
    }
  ]
}