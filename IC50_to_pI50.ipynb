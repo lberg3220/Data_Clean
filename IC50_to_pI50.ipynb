{
  "nbformat": 4,
  "nbformat_minor": 0,
  "metadata": {
    "colab": {
      "provenance": []
    },
    "kernelspec": {
      "name": "python3",
      "display_name": "Python 3"
    },
    "language_info": {
      "name": "python"
    }
  },
  "cells": [
    {
      "cell_type": "code",
      "execution_count": 247,
      "metadata": {
        "id": "9rbLFWHbk46-"
      },
      "outputs": [],
      "source": [
        "import pandas as pd\n",
        "import numpy as np"
      ]
    },
    {
      "cell_type": "code",
      "source": [
        "file_name = '/content/Staphylococcus_aureus.csv'"
      ],
      "metadata": {
        "id": "XmCRf0valC-p"
      },
      "execution_count": 248,
      "outputs": []
    },
    {
      "cell_type": "code",
      "source": [
        "df = pd.read_csv(file_name, sep=',')"
      ],
      "metadata": {
        "id": "HRPbQ2yJlDRX"
      },
      "execution_count": 249,
      "outputs": []
    },
    {
      "cell_type": "code",
      "source": [
        "print(df)"
      ],
      "metadata": {
        "colab": {
          "base_uri": "https://localhost:8080/"
        },
        "id": "o5QBWAqYlDe2",
        "outputId": "7ee98e7a-18c5-40f6-c62d-c994841c7044"
      },
      "execution_count": 250,
      "outputs": [
        {
          "output_type": "stream",
          "name": "stdout",
          "text": [
            "      Molecule ChEMBL ID                                             Smiles  \\\n",
            "0          CHEMBL2372017  CC(=O)N[C@@H](Cc1ccccc1)C(=O)N1Cc2ccccc2C[C@H]...   \n",
            "1          CHEMBL3085542  CC(=O)NCCC(=O)N[C@@H](Cc1ccc(F)cc1)C(=O)N1Cc2c...   \n",
            "2          CHEMBL1255642  CC(=O)NCC(=O)N[C@@H](Cc1ccccc1)C(=O)N1Cc2ccccc...   \n",
            "3          CHEMBL1240854  CC[C@@]1([C@H]2O[C@@H]([C@H]3O[C@@](O)(CO)[C@H...   \n",
            "4          CHEMBL1240854  CC[C@@]1([C@H]2O[C@@H]([C@H]3O[C@@](O)(CO)[C@H...   \n",
            "...                  ...                                                ...   \n",
            "19980      CHEMBL5202399  CC1=C[C@H]2[C@@H]([C@@H](C)CC[C@@H]2O)[C@]2(C)...   \n",
            "19981      CHEMBL5180114  COc1cc(C)c(C(=O)N[C@@H]2[C@@H](C)O[C@@H](O[C@H...   \n",
            "19982       CHEMBL295124        COc1ccc2cc3[n+](cc2c1OC)CCc1cc2c(cc1-3)OCO2   \n",
            "19983      CHEMBL5219103  CCO/N=C/c1cc(OC)c(OCC(O)Cn2c([N+](=O)[O-])cnc2...   \n",
            "19984      CHEMBL5220703  C=CCO/N=C/c1cc(OC)c(OCC(O)Cn2c([N+](=O)[O-])cn...   \n",
            "\n",
            "      Standard Relation  Standard Value Standard Units  \\\n",
            "0                   '='         25300.0             nM   \n",
            "1                   '='        109000.0             nM   \n",
            "2                   '='         54000.0             nM   \n",
            "3                   '='          8370.0             nM   \n",
            "4                   '='          8370.0             nM   \n",
            "...                 ...             ...            ...   \n",
            "19980               '>'         30000.0             nM   \n",
            "19981               '='          2200.0             nM   \n",
            "19982               '='        380000.0             nM   \n",
            "19983               '='        883000.0             nM   \n",
            "19984               '='         54000.0             nM   \n",
            "\n",
            "                                       Assay Description  \\\n",
            "0      Antimicrobial activity against methicillin-res...   \n",
            "1      Antimicrobial activity against methicillin-res...   \n",
            "2      Antimicrobial activity against methicillin-res...   \n",
            "3      Antimicrobial activity against methicillin-res...   \n",
            "4      Antimicrobial activity against methicillin-res...   \n",
            "...                                                  ...   \n",
            "19980  Antibacterial activity against methicillin-res...   \n",
            "19981  Antibacterial activity against methicillin-res...   \n",
            "19982  Antibacterial activity against Staphylococcus ...   \n",
            "19983  Antibacterial activity against Staphylococcus ...   \n",
            "19984  Antibacterial activity against Staphylococcus ...   \n",
            "\n",
            "                 Target Name  \n",
            "0      Staphylococcus aureus  \n",
            "1      Staphylococcus aureus  \n",
            "2      Staphylococcus aureus  \n",
            "3      Staphylococcus aureus  \n",
            "4      Staphylococcus aureus  \n",
            "...                      ...  \n",
            "19980  Staphylococcus aureus  \n",
            "19981  Staphylococcus aureus  \n",
            "19982  Staphylococcus aureus  \n",
            "19983  Staphylococcus aureus  \n",
            "19984  Staphylococcus aureus  \n",
            "\n",
            "[19985 rows x 7 columns]\n"
          ]
        }
      ]
    },
    {
      "cell_type": "code",
      "source": [
        "# Create a new column for pIC50 values.\n",
        "df['pIC50'] = np.nan\n",
        "\n",
        "# Convert IC50 values to pIC50 values for rows containing 'nM' in 'Standard Units'.\n",
        "df = df[df['Standard Units'].str.contains('nM')]\n",
        "rows_with_nm = df[df['Standard Units'].str.contains('nM')]\n",
        "rows_with_nm['Standard Value'] = rows_with_nm['Standard Value'] / 1000\n",
        "rows_with_nm['pIC50'] = -np.log10(rows_with_nm['Standard Value'])\n",
        "\n",
        "rows_with_nm = rows_with_nm.replace('nM', 'mM')\n",
        "\n",
        "# Update the original dataframe with the new pIC50 values.\n",
        "\n",
        "df.update(rows_with_nm[['pIC50']])\n",
        "\n",
        "df.loc[rows_with_nm.index] = rows_with_nm"
      ],
      "metadata": {
        "id": "MzOvUJe9na9O"
      },
      "execution_count": 251,
      "outputs": []
    },
    {
      "cell_type": "code",
      "source": [
        "print(df)"
      ],
      "metadata": {
        "colab": {
          "base_uri": "https://localhost:8080/"
        },
        "id": "BKVIyg6_tWWk",
        "outputId": "484fd24a-ce2e-4298-9bec-53ae9f781031"
      },
      "execution_count": 252,
      "outputs": [
        {
          "output_type": "stream",
          "name": "stdout",
          "text": [
            "      Molecule ChEMBL ID                                             Smiles  \\\n",
            "0          CHEMBL2372017  CC(=O)N[C@@H](Cc1ccccc1)C(=O)N1Cc2ccccc2C[C@H]...   \n",
            "1          CHEMBL3085542  CC(=O)NCCC(=O)N[C@@H](Cc1ccc(F)cc1)C(=O)N1Cc2c...   \n",
            "2          CHEMBL1255642  CC(=O)NCC(=O)N[C@@H](Cc1ccccc1)C(=O)N1Cc2ccccc...   \n",
            "3          CHEMBL1240854  CC[C@@]1([C@H]2O[C@@H]([C@H]3O[C@@](O)(CO)[C@H...   \n",
            "4          CHEMBL1240854  CC[C@@]1([C@H]2O[C@@H]([C@H]3O[C@@](O)(CO)[C@H...   \n",
            "...                  ...                                                ...   \n",
            "19980      CHEMBL5202399  CC1=C[C@H]2[C@@H]([C@@H](C)CC[C@@H]2O)[C@]2(C)...   \n",
            "19981      CHEMBL5180114  COc1cc(C)c(C(=O)N[C@@H]2[C@@H](C)O[C@@H](O[C@H...   \n",
            "19982       CHEMBL295124        COc1ccc2cc3[n+](cc2c1OC)CCc1cc2c(cc1-3)OCO2   \n",
            "19983      CHEMBL5219103  CCO/N=C/c1cc(OC)c(OCC(O)Cn2c([N+](=O)[O-])cnc2...   \n",
            "19984      CHEMBL5220703  C=CCO/N=C/c1cc(OC)c(OCC(O)Cn2c([N+](=O)[O-])cn...   \n",
            "\n",
            "      Standard Relation  Standard Value Standard Units  \\\n",
            "0                   '='           25.30             mM   \n",
            "1                   '='          109.00             mM   \n",
            "2                   '='           54.00             mM   \n",
            "3                   '='            8.37             mM   \n",
            "4                   '='            8.37             mM   \n",
            "...                 ...             ...            ...   \n",
            "19980               '>'           30.00             mM   \n",
            "19981               '='            2.20             mM   \n",
            "19982               '='          380.00             mM   \n",
            "19983               '='          883.00             mM   \n",
            "19984               '='           54.00             mM   \n",
            "\n",
            "                                       Assay Description  \\\n",
            "0      Antimicrobial activity against methicillin-res...   \n",
            "1      Antimicrobial activity against methicillin-res...   \n",
            "2      Antimicrobial activity against methicillin-res...   \n",
            "3      Antimicrobial activity against methicillin-res...   \n",
            "4      Antimicrobial activity against methicillin-res...   \n",
            "...                                                  ...   \n",
            "19980  Antibacterial activity against methicillin-res...   \n",
            "19981  Antibacterial activity against methicillin-res...   \n",
            "19982  Antibacterial activity against Staphylococcus ...   \n",
            "19983  Antibacterial activity against Staphylococcus ...   \n",
            "19984  Antibacterial activity against Staphylococcus ...   \n",
            "\n",
            "                 Target Name     pIC50  \n",
            "0      Staphylococcus aureus -1.403121  \n",
            "1      Staphylococcus aureus -2.037426  \n",
            "2      Staphylococcus aureus -1.732394  \n",
            "3      Staphylococcus aureus -0.922725  \n",
            "4      Staphylococcus aureus -0.922725  \n",
            "...                      ...       ...  \n",
            "19980  Staphylococcus aureus -1.477121  \n",
            "19981  Staphylococcus aureus -0.342423  \n",
            "19982  Staphylococcus aureus -2.579784  \n",
            "19983  Staphylococcus aureus -2.945961  \n",
            "19984  Staphylococcus aureus -1.732394  \n",
            "\n",
            "[15726 rows x 8 columns]\n"
          ]
        }
      ]
    },
    {
      "cell_type": "code",
      "source": [
        "def save_as_csv_with_target_name(df):\n",
        "  \"\"\"\n",
        "  Saves the dataframe as a CSV file with the filename as the \"Target Name\" value.\n",
        "  \"\"\"\n",
        "  target_name = df[\"Target Name\"].iloc[0]\n",
        "  filename = f\"{target_name} pIC50.csv\"\n",
        "  df.to_csv(filename, index=False)\n"
      ],
      "metadata": {
        "id": "DklSZsrymiT7"
      },
      "execution_count": 253,
      "outputs": []
    },
    {
      "cell_type": "code",
      "source": [
        "save_as_csv_with_target_name(df)"
      ],
      "metadata": {
        "id": "MRmw-LWqoRsH"
      },
      "execution_count": 254,
      "outputs": []
    }
  ]
}